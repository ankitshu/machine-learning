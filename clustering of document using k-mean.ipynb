{
 "cells": [
  {
   "cell_type": "code",
   "execution_count": 1,
   "metadata": {
    "collapsed": true
   },
   "outputs": [],
   "source": [
    "from sklearn.feature_extraction.text import TfidfVectorizer\n",
    "from sklearn.cluster import KMeans\n",
    "from sklearn.metrics import adjusted_rand_score\n",
    "\n",
    "documents = [\"Human machine interface for lab abc computer applications\",\n",
    "             \"A survey of user opinion of computer system response time\",\n",
    "             \"The EPS user interface management system\",\n",
    "             \"System and human system engineering testing of EPS\",\n",
    "             \"Relation of user perceived response time to error measurement\",\n",
    "             \"The generation of random binary unordered trees\",\n",
    "             \"The intersection graph of paths in trees\",\n",
    "             \"Graph minors IV Widths of trees and well quasi ordering\",\n",
    "             \"Graph minors A survey\",\"Human machine interface for lab abc computer applications\",\n",
    "             \"A survey of user opinion of computer system response time\",\n",
    "             \"The EPS user interface management system\",\n",
    "             \"System and human system engineering testing of EPS\",\n",
    "             \"Relation of user perceived response time to error measurement\",\n",
    "             \"The generation of random binary unordered trees\",\n",
    "             \"The intersection graph of paths in trees\",\n",
    "             \"Graph minors IV Widths of trees and well quasi ordering\",\n",
    "             \"Graph minors A survey\"]"
   ]
  },
  {
   "cell_type": "code",
   "execution_count": 2,
   "metadata": {},
   "outputs": [],
   "source": [
    "vectorizer = TfidfVectorizer(stop_words='english')\n",
    "X = vectorizer.fit_transform(documents)\n"
   ]
  },
  {
   "cell_type": "code",
   "execution_count": 6,
   "metadata": {},
   "outputs": [
    {
     "data": {
      "text/plain": [
       "KMeans(algorithm='auto', copy_x=True, init='k-means++', max_iter=100,\n",
       "    n_clusters=10, n_init=1, n_jobs=1, precompute_distances='auto',\n",
       "    random_state=None, tol=0.0001, verbose=0)"
      ]
     },
     "execution_count": 6,
     "metadata": {},
     "output_type": "execute_result"
    }
   ],
   "source": [
    "true_k = 10\n",
    "model = KMeans(n_clusters=true_k, init='k-means++', max_iter=100, n_init=1)\n",
    "model.fit(X)"
   ]
  },
  {
   "cell_type": "code",
   "execution_count": 4,
   "metadata": {},
   "outputs": [
    {
     "name": "stdout",
     "output_type": "stream",
     "text": [
      "Top terms per cluster:\n",
      "Cluster 0:\n",
      " management\n",
      " eps\n",
      " interface\n",
      " user\n",
      " human\n",
      " machine\n",
      " lab\n",
      " iv\n",
      " intersection\n",
      " widths\n",
      "Cluster 1:\n",
      " intersection\n",
      " paths\n",
      " trees\n",
      " graph\n",
      " widths\n",
      " generation\n",
      " iv\n",
      " interface\n",
      " human\n",
      " error\n",
      "Cluster 2:\n",
      " widths\n",
      " quasi\n",
      " ordering\n",
      " iv\n",
      " minors\n",
      " trees\n",
      " graph\n",
      " binary\n",
      " computer\n",
      " engineering\n",
      "Cluster 3:\n",
      " opinion\n",
      " time\n",
      " computer\n",
      " survey\n",
      " response\n",
      " user\n",
      " widths\n",
      " graph\n",
      " intersection\n",
      " interface\n",
      "Cluster 4:\n",
      " abc\n",
      " applications\n",
      " lab\n",
      " machine\n",
      " computer\n",
      " human\n",
      " interface\n",
      " management\n",
      " binary\n",
      " engineering\n",
      "Cluster 5:\n",
      " random\n",
      " generation\n",
      " unordered\n",
      " binary\n",
      " trees\n",
      " iv\n",
      " intersection\n",
      " interface\n",
      " human\n",
      " graph\n",
      "Cluster 6:\n",
      " testing\n",
      " engineering\n",
      " eps\n",
      " human\n",
      " widths\n",
      " graph\n",
      " lab\n",
      " iv\n",
      " intersection\n",
      " interface\n",
      "Cluster 7:\n",
      " minors\n",
      " survey\n",
      " graph\n",
      " widths\n",
      " generation\n",
      " iv\n",
      " intersection\n",
      " interface\n",
      " human\n",
      " error\n",
      "Cluster 8:\n",
      " measurement\n",
      " relation\n",
      " error\n",
      " perceived\n",
      " time\n",
      " response\n",
      " user\n",
      " generation\n",
      " intersection\n",
      " interface\n",
      "Cluster 9:\n",
      " minors\n",
      " survey\n",
      " graph\n",
      " widths\n",
      " generation\n",
      " iv\n",
      " intersection\n",
      " interface\n",
      " human\n",
      " error\n"
     ]
    }
   ],
   "source": [
    "\n",
    "print(\"Top terms per cluster:\")\n",
    "order_centroids = model.cluster_centers_.argsort()[:, ::-1]\n",
    "terms = vectorizer.get_feature_names()\n",
    "for i in range(true_k):\n",
    "    print (\"Cluster %d:\" % i,)\n",
    "    for ind in order_centroids[i, :10]:\n",
    "        print (' %s' % terms[ind])\n"
   ]
  },
  {
   "cell_type": "code",
   "execution_count": 5,
   "metadata": {},
   "outputs": [
    {
     "data": {
      "image/png": "[encoded data removed]",
      "text/plain": [
       "<matplotlib.figure.Figure at 0x7f0c2befd7b8>"
      ]
     },
     "metadata": {},
     "output_type": "display_data"
    }
   ],
   "source": [
    "import matplotlib.pyplot as plt\n",
    "data2D = model.transform(X)\n",
    "plt.scatter(data2D[:,0], data2D[:,1])\n",
    "plt.show() "
   ]
  }
 ],
 "metadata": {
  "kernelspec": {
   "display_name": "Python 3",
   "language": "python",
   "name": "python3"
  },
  "language_info": {
   "codemirror_mode": {
    "name": "ipython",
    "version": 3
   },
   "file_extension": ".py",
   "mimetype": "text/x-python",
   "name": "python",
   "nbconvert_exporter": "python",
   "pygments_lexer": "ipython3",
   "version": "3.4.3"
  }
 },
 "nbformat": 4,
 "nbformat_minor": 2
}
